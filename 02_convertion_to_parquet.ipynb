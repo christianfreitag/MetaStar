{
 "cells": [
  {
   "cell_type": "markdown",
   "metadata": {},
   "source": [
    "### Setting up file paths"
   ]
  },
  {
   "cell_type": "code",
   "execution_count": null,
   "metadata": {},
   "outputs": [],
   "source": [
    "# URL of the file you want to download\n",
    "url = 'https://cdn.tse.jus.br/estatistica/sead/odsele/votacao_candidato_munzona/votacao_candidato_munzona_2022.zip'\n",
    "# The local path where you want to save the file\n",
    "workdir = './work/'\n",
    "parquetdir = './parquet/'\n",
    "destfile = 'votacao_candidato_munzona_2022.zip'"
   ]
  },
  {
   "cell_type": "code",
   "execution_count": null,
   "metadata": {},
   "outputs": [],
   "source": [
    "source_csv = 'votacao_candidato_munzona_2022_BRASIL.csv'\n",
    "from zipfile import ZipFile\n",
    "with ZipFile(workdir+destfile, 'r') as zObject: \n",
    "  \n",
    "    # Extracting all the members of the zip  \n",
    "    # into a specific location. \n",
    "    zObject.extract(source_csv, workdir + 'extracted')\n",
    "extracted_file = workdir +'extracted/'+source_csv"
   ]
  },
  {
   "cell_type": "code",
   "execution_count": 2,
   "metadata": {},
   "outputs": [],
   "source": [
    "workdir = './work/'\n",
    "parquetdir = './parquet/'\n",
    "source_csv = 'votacao_candidato_munzona_2022_BRASIL.csv'\n",
    "extracted_file = workdir +'extracted/'+source_csv"
   ]
  },
  {
   "cell_type": "code",
   "execution_count": 3,
   "metadata": {},
   "outputs": [
    {
     "name": "stdout",
     "output_type": "stream",
     "text": [
      "Requirement already satisfied: pyspark in c:\\users\\030856141600\\appdata\\local\\programs\\python\\python310\\lib\\site-packages (3.5.0)\n",
      "Requirement already satisfied: py4j==0.10.9.7 in c:\\users\\030856141600\\appdata\\local\\programs\\python\\python310\\lib\\site-packages (from pyspark) (0.10.9.7)\n",
      "Note: you may need to restart the kernel to use updated packages.\n"
     ]
    },
    {
     "name": "stderr",
     "output_type": "stream",
     "text": [
      "\n",
      "[notice] A new release of pip is available: 23.0.1 -> 24.0\n",
      "[notice] To update, run: python.exe -m pip install --upgrade pip\n"
     ]
    }
   ],
   "source": [
    "%pip install pyspark"
   ]
  },
  {
   "cell_type": "markdown",
   "metadata": {},
   "source": [
    "### Creating Spark session"
   ]
  },
  {
   "cell_type": "code",
   "execution_count": 5,
   "metadata": {},
   "outputs": [],
   "source": [
    "from pyspark.sql import SparkSession\n",
    "\n",
    "jdbc_driver_path = \"postgresql-42.7.1.jar\"\n",
    "# Create a SparkSession\n",
    "spark_session = SparkSession.builder.appName('spark').config(\"spark.driver.extraClassPath\", jdbc_driver_path).getOrCreate()"
   ]
  },
  {
   "cell_type": "markdown",
   "metadata": {},
   "source": [
    "### Reading file"
   ]
  },
  {
   "cell_type": "code",
   "execution_count": 5,
   "metadata": {},
   "outputs": [],
   "source": [
    "df = spark_session.read.options(header=\"true\", delimiter=\";\", encoding=\"ISO-8859-1\").csv(extracted_file)"
   ]
  },
  {
   "cell_type": "code",
   "execution_count": 15,
   "metadata": {},
   "outputs": [],
   "source": [
    "import pandas as pd\n",
    "GZIP_INPUT_FILE = './data/votacao.parquet.gzip'\n",
    "\n",
    "\n",
    "df = pd.read_parquet(GZIP_INPUT_FILE)"
   ]
  },
  {
   "cell_type": "markdown",
   "metadata": {},
   "source": [
    "### Selecting relevant columns"
   ]
  },
  {
   "cell_type": "code",
   "execution_count": 8,
   "metadata": {},
   "outputs": [
    {
     "ename": "NameError",
     "evalue": "name 'df' is not defined",
     "output_type": "error",
     "traceback": [
      "\u001b[1;31m---------------------------------------------------------------------------\u001b[0m",
      "\u001b[1;31mNameError\u001b[0m                                 Traceback (most recent call last)",
      "Cell \u001b[1;32mIn[8], line 27\u001b[0m\n\u001b[0;32m      2\u001b[0m relevant_columns\u001b[38;5;241m=\u001b[39m[\n\u001b[0;32m      3\u001b[0m     \u001b[38;5;124m\"\u001b[39m\u001b[38;5;124mNR_TURNO\u001b[39m\u001b[38;5;124m\"\u001b[39m,\n\u001b[0;32m      4\u001b[0m     \u001b[38;5;124m\"\u001b[39m\u001b[38;5;124mDS_ELEICAO\u001b[39m\u001b[38;5;124m\"\u001b[39m,\n\u001b[1;32m   (...)\u001b[0m\n\u001b[0;32m     23\u001b[0m     \u001b[38;5;124m\"\u001b[39m\u001b[38;5;124mDS_SIT_TOT_TURNO\u001b[39m\u001b[38;5;124m\"\u001b[39m\n\u001b[0;32m     24\u001b[0m ]\n\u001b[0;32m     26\u001b[0m \u001b[38;5;66;03m# Selecting relevant columns\u001b[39;00m\n\u001b[1;32m---> 27\u001b[0m selected_columns_df \u001b[38;5;241m=\u001b[39m \u001b[43mdf\u001b[49m\u001b[38;5;241m.\u001b[39mselect(relevant_columns)\n",
      "\u001b[1;31mNameError\u001b[0m: name 'df' is not defined"
     ]
    }
   ],
   "source": [
    "# Defining relevant columns\n",
    "relevant_columns=[\n",
    "    \"NR_TURNO\",\n",
    "    \"DS_ELEICAO\",\n",
    "    \"TP_ABRANGENCIA\",\n",
    "    \"SG_UF\",\n",
    "    \"NM_MUNICIPIO\",\n",
    "    \"NR_ZONA\",\n",
    "    \"DS_CARGO\",\n",
    "    \"NR_CANDIDATO\",\n",
    "    \"NM_CANDIDATO\",\n",
    "    \"NM_URNA_CANDIDATO\",\n",
    "    \"DS_SITUACAO_CANDIDATURA\",\n",
    "    \"NR_PARTIDO\",\n",
    "    \"SG_PARTIDO\",\n",
    "    \"NM_PARTIDO\",\n",
    "    \"NM_COLIGACAO\",\n",
    "    \"DS_COMPOSICAO_COLIGACAO\",\n",
    "    \"ST_VOTO_EM_TRANSITO\",\n",
    "    \"QT_VOTOS_NOMINAIS\",\n",
    "    \"NM_TIPO_DESTINACAO_VOTOS\",\n",
    "    \"QT_VOTOS_NOMINAIS_VALIDOS\",\n",
    "    \"DS_SIT_TOT_TURNO\"\n",
    "]\n",
    "\n",
    "# Selecting relevant columns\n",
    "selected_columns_df = df.select(relevant_columns)"
   ]
  },
  {
   "cell_type": "markdown",
   "metadata": {},
   "source": [
    "### Printing first lines"
   ]
  },
  {
   "cell_type": "code",
   "execution_count": 16,
   "metadata": {},
   "outputs": [
    {
     "ename": "AttributeError",
     "evalue": "'DataFrame' object has no attribute 'show'",
     "output_type": "error",
     "traceback": [
      "\u001b[1;31m---------------------------------------------------------------------------\u001b[0m",
      "\u001b[1;31mAttributeError\u001b[0m                            Traceback (most recent call last)",
      "\u001b[1;32m~\\AppData\\Local\\Temp\\ipykernel_26016\\3726558592.py\u001b[0m in \u001b[0;36m?\u001b[1;34m()\u001b[0m\n\u001b[1;32m----> 1\u001b[1;33m \u001b[0mdf\u001b[0m\u001b[1;33m.\u001b[0m\u001b[0mshow\u001b[0m\u001b[1;33m(\u001b[0m\u001b[1;33m)\u001b[0m\u001b[1;33m\u001b[0m\u001b[1;33m\u001b[0m\u001b[0m\n\u001b[0m",
      "\u001b[1;32mc:\\Users\\034033021651\\Documents\\MetaStar\\.venv\\lib\\site-packages\\pandas\\core\\generic.py\u001b[0m in \u001b[0;36m?\u001b[1;34m(self, name)\u001b[0m\n\u001b[0;32m   6289\u001b[0m             \u001b[1;32mand\u001b[0m \u001b[0mname\u001b[0m \u001b[1;32mnot\u001b[0m \u001b[1;32min\u001b[0m \u001b[0mself\u001b[0m\u001b[1;33m.\u001b[0m\u001b[0m_accessors\u001b[0m\u001b[1;33m\u001b[0m\u001b[1;33m\u001b[0m\u001b[0m\n\u001b[0;32m   6290\u001b[0m             \u001b[1;32mand\u001b[0m \u001b[0mself\u001b[0m\u001b[1;33m.\u001b[0m\u001b[0m_info_axis\u001b[0m\u001b[1;33m.\u001b[0m\u001b[0m_can_hold_identifiers_and_holds_name\u001b[0m\u001b[1;33m(\u001b[0m\u001b[0mname\u001b[0m\u001b[1;33m)\u001b[0m\u001b[1;33m\u001b[0m\u001b[1;33m\u001b[0m\u001b[0m\n\u001b[0;32m   6291\u001b[0m         ):\n\u001b[0;32m   6292\u001b[0m             \u001b[1;32mreturn\u001b[0m \u001b[0mself\u001b[0m\u001b[1;33m[\u001b[0m\u001b[0mname\u001b[0m\u001b[1;33m]\u001b[0m\u001b[1;33m\u001b[0m\u001b[1;33m\u001b[0m\u001b[0m\n\u001b[1;32m-> 6293\u001b[1;33m         \u001b[1;32mreturn\u001b[0m \u001b[0mobject\u001b[0m\u001b[1;33m.\u001b[0m\u001b[0m__getattribute__\u001b[0m\u001b[1;33m(\u001b[0m\u001b[0mself\u001b[0m\u001b[1;33m,\u001b[0m \u001b[0mname\u001b[0m\u001b[1;33m)\u001b[0m\u001b[1;33m\u001b[0m\u001b[1;33m\u001b[0m\u001b[0m\n\u001b[0m",
      "\u001b[1;31mAttributeError\u001b[0m: 'DataFrame' object has no attribute 'show'"
     ]
    }
   ],
   "source": [
    "df.show()"
   ]
  },
  {
   "cell_type": "markdown",
   "metadata": {},
   "source": [
    "### Writing to parquet file"
   ]
  },
  {
   "cell_type": "code",
   "execution_count": 12,
   "metadata": {},
   "outputs": [],
   "source": [
    "from pyspark.sql import SparkSession\n",
    "import pyspark.sql.functions as F\n",
    "\n",
    "def transform_spark_dataframe_into_star_schema(\n",
    "    dataframe,\n",
    "    colunas_fato = [\"col1\", \"col2\"],\n",
    "    tabela_fato_nome = \"tabela_fato\",\n",
    "    mapping_colunas_dimensao = {'dim1':[\"col3\", \"col4\"], \"dim2\":[\"col5\", \"col6\"]},\n",
    "):\n",
    "\n",
    "    colunas_fato_e_dimensao = colunas_fato + [col for cols in mapping_colunas_dimensao.values() for col in cols]\n",
    "    dataframe = dataframe.select(*colunas_fato_e_dimensao)\n",
    "\n",
    "    dimensions = []\n",
    "    for dim, cols in mapping_colunas_dimensao.items():\n",
    "\n",
    "        df_dimension = dataframe.select(*cols).distinct()\n",
    "        sk_name = f\"sk_{dim.replace('DIM_', '')}\"\n",
    "        # add unique id to dimension\n",
    "        df_dimension = df_dimension.withColumn(sk_name, F.monotonically_increasing_id())\n",
    "\n",
    "        dimensions.append( (dim, df_dimension) )\n",
    "\n",
    "\n",
    "\n",
    "    # Substitui as colunas de dimensão pelo respectivo SK na tabela fato\n",
    "    # ------------------------------------------------------------------\n",
    "    for dim, df_dimension in dimensions:\n",
    "        # join the dimension dataframe to the original dataframe\n",
    "        dataframe = dataframe.join(\n",
    "            df_dimension, \n",
    "            on=[\n",
    "                dataframe[col] == df_dimension[col]\n",
    "                for col in mapping_colunas_dimensao[dim]\n",
    "            ],\n",
    "            how=\"left\"\n",
    "        )\n",
    "\n",
    "        # drop the original columns\n",
    "        dataframe = dataframe.drop(*mapping_colunas_dimensao[dim])\n",
    "    return [ (tabela_fato_nome, dataframe) ] + dimensions\n"
   ]
  },
  {
   "cell_type": "code",
   "execution_count": 17,
   "metadata": {},
   "outputs": [],
   "source": [
    "import pandas as pd\n",
    "import numpy as np\n",
    "\n",
    "def transform_pandas_dataframe_into_star_schema(\n",
    "    dataframe,\n",
    "    colunas_fato = [\"col1\", \"col2\"],\n",
    "    tabela_fato_nome = \"tabela_fato\",\n",
    "    mapping_colunas_dimensao = {'dim1':[\"col3\", \"col4\"], \"dim2\":[\"col5\", \"col6\"]},\n",
    "):\n",
    "\n",
    "    colunas_fato_e_dimensao = colunas_fato + [col for cols in mapping_colunas_dimensao.values() for col in cols]\n",
    "    dataframe = dataframe[colunas_fato_e_dimensao]\n",
    "\n",
    "    dimensions = []\n",
    "    for dim, cols in mapping_colunas_dimensao.items():\n",
    "\n",
    "        df_dimension = dataframe[cols].drop_duplicates()\n",
    "        sk_name = f\"sk_{dim.replace('DIM_', '')}\"\n",
    "        # add unique id to dimension\n",
    "        df_dimension[sk_name] = np.arange(len(df_dimension))\n",
    "\n",
    "        dimensions.append( (dim, df_dimension) )\n",
    "\n",
    "    # Substitui as colunas de dimensão pelo respectivo SK na tabela fato\n",
    "    # ------------------------------------------------------------------\n",
    "    for dim, df_dimension in dimensions:\n",
    "        # join the dimension dataframe to the original dataframe\n",
    "        dataframe = pd.merge(\n",
    "            dataframe, \n",
    "            df_dimension, \n",
    "            on=cols,\n",
    "            how=\"left\"\n",
    "        )\n",
    "\n",
    "        # drop the original columns\n",
    "        dataframe = dataframe.drop(columns=cols)\n",
    "    return [ (tabela_fato_nome, dataframe) ] + dimensions"
   ]
  },
  {
   "cell_type": "code",
   "execution_count": 18,
   "metadata": {},
   "outputs": [
    {
     "ename": "KeyError",
     "evalue": "'DS_SIT_TOT_TURNO'",
     "output_type": "error",
     "traceback": [
      "\u001b[1;31m---------------------------------------------------------------------------\u001b[0m",
      "\u001b[1;31mKeyError\u001b[0m                                  Traceback (most recent call last)",
      "\u001b[1;32m~\\AppData\\Local\\Temp\\ipykernel_26016\\2496537949.py\u001b[0m in \u001b[0;36m?\u001b[1;34m()\u001b[0m\n\u001b[1;32m----> 1\u001b[1;33m star_schema = transform_pandas_dataframe_into_star_schema(\n\u001b[0m\u001b[0;32m      2\u001b[0m     \u001b[0mdf\u001b[0m\u001b[1;33m,\u001b[0m\u001b[1;33m\u001b[0m\u001b[1;33m\u001b[0m\u001b[0m\n\u001b[0;32m      3\u001b[0m     \u001b[0mcolunas_fato\u001b[0m\u001b[1;33m=\u001b[0m\u001b[1;33m[\u001b[0m\u001b[1;34m\"QT_VOTOS_NOMINAIS_VALIDOS\"\u001b[0m\u001b[1;33m,\u001b[0m \u001b[1;34m\"QT_VOTOS_NOMINAIS\"\u001b[0m\u001b[1;33m]\u001b[0m\u001b[1;33m,\u001b[0m\u001b[1;33m\u001b[0m\u001b[1;33m\u001b[0m\u001b[0m\n\u001b[0;32m      4\u001b[0m     \u001b[0mtabela_fato_nome\u001b[0m\u001b[1;33m=\u001b[0m\u001b[1;34m\"tabela_fato\"\u001b[0m\u001b[1;33m,\u001b[0m\u001b[1;33m\u001b[0m\u001b[1;33m\u001b[0m\u001b[0m\n",
      "\u001b[1;32m~\\AppData\\Local\\Temp\\ipykernel_26016\\1685190513.py\u001b[0m in \u001b[0;36m?\u001b[1;34m(dataframe, colunas_fato, tabela_fato_nome, mapping_colunas_dimensao)\u001b[0m\n\u001b[0;32m     24\u001b[0m     \u001b[1;31m# Substitui as colunas de dimensão pelo respectivo SK na tabela fato\u001b[0m\u001b[1;33m\u001b[0m\u001b[1;33m\u001b[0m\u001b[0m\n\u001b[0;32m     25\u001b[0m     \u001b[1;31m# ------------------------------------------------------------------\u001b[0m\u001b[1;33m\u001b[0m\u001b[1;33m\u001b[0m\u001b[0m\n\u001b[0;32m     26\u001b[0m     \u001b[1;32mfor\u001b[0m \u001b[0mdim\u001b[0m\u001b[1;33m,\u001b[0m \u001b[0mdf_dimension\u001b[0m \u001b[1;32min\u001b[0m \u001b[0mdimensions\u001b[0m\u001b[1;33m:\u001b[0m\u001b[1;33m\u001b[0m\u001b[1;33m\u001b[0m\u001b[0m\n\u001b[0;32m     27\u001b[0m         \u001b[1;31m# join the dimension dataframe to the original dataframe\u001b[0m\u001b[1;33m\u001b[0m\u001b[1;33m\u001b[0m\u001b[0m\n\u001b[1;32m---> 28\u001b[1;33m         dataframe = pd.merge(\n\u001b[0m\u001b[0;32m     29\u001b[0m             \u001b[0mdataframe\u001b[0m\u001b[1;33m,\u001b[0m\u001b[1;33m\u001b[0m\u001b[1;33m\u001b[0m\u001b[0m\n\u001b[0;32m     30\u001b[0m             \u001b[0mdf_dimension\u001b[0m\u001b[1;33m,\u001b[0m\u001b[1;33m\u001b[0m\u001b[1;33m\u001b[0m\u001b[0m\n\u001b[0;32m     31\u001b[0m             \u001b[0mon\u001b[0m\u001b[1;33m=\u001b[0m\u001b[0mcols\u001b[0m\u001b[1;33m,\u001b[0m\u001b[1;33m\u001b[0m\u001b[1;33m\u001b[0m\u001b[0m\n",
      "\u001b[1;32mc:\\Users\\034033021651\\Documents\\MetaStar\\.venv\\lib\\site-packages\\pandas\\core\\reshape\\merge.py\u001b[0m in \u001b[0;36m?\u001b[1;34m(left, right, how, on, left_on, right_on, left_index, right_index, sort, suffixes, copy, indicator, validate)\u001b[0m\n\u001b[0;32m    166\u001b[0m             \u001b[0mvalidate\u001b[0m\u001b[1;33m=\u001b[0m\u001b[0mvalidate\u001b[0m\u001b[1;33m,\u001b[0m\u001b[1;33m\u001b[0m\u001b[1;33m\u001b[0m\u001b[0m\n\u001b[0;32m    167\u001b[0m             \u001b[0mcopy\u001b[0m\u001b[1;33m=\u001b[0m\u001b[0mcopy\u001b[0m\u001b[1;33m,\u001b[0m\u001b[1;33m\u001b[0m\u001b[1;33m\u001b[0m\u001b[0m\n\u001b[0;32m    168\u001b[0m         )\n\u001b[0;32m    169\u001b[0m     \u001b[1;32melse\u001b[0m\u001b[1;33m:\u001b[0m\u001b[1;33m\u001b[0m\u001b[1;33m\u001b[0m\u001b[0m\n\u001b[1;32m--> 170\u001b[1;33m         op = _MergeOperation(\n\u001b[0m\u001b[0;32m    171\u001b[0m             \u001b[0mleft_df\u001b[0m\u001b[1;33m,\u001b[0m\u001b[1;33m\u001b[0m\u001b[1;33m\u001b[0m\u001b[0m\n\u001b[0;32m    172\u001b[0m             \u001b[0mright_df\u001b[0m\u001b[1;33m,\u001b[0m\u001b[1;33m\u001b[0m\u001b[1;33m\u001b[0m\u001b[0m\n\u001b[0;32m    173\u001b[0m             \u001b[0mhow\u001b[0m\u001b[1;33m=\u001b[0m\u001b[0mhow\u001b[0m\u001b[1;33m,\u001b[0m\u001b[1;33m\u001b[0m\u001b[1;33m\u001b[0m\u001b[0m\n",
      "\u001b[1;32mc:\\Users\\034033021651\\Documents\\MetaStar\\.venv\\lib\\site-packages\\pandas\\core\\reshape\\merge.py\u001b[0m in \u001b[0;36m?\u001b[1;34m(self, left, right, how, on, left_on, right_on, left_index, right_index, sort, suffixes, indicator, validate)\u001b[0m\n\u001b[0;32m    790\u001b[0m             \u001b[0mself\u001b[0m\u001b[1;33m.\u001b[0m\u001b[0mright_join_keys\u001b[0m\u001b[1;33m,\u001b[0m\u001b[1;33m\u001b[0m\u001b[1;33m\u001b[0m\u001b[0m\n\u001b[0;32m    791\u001b[0m             \u001b[0mself\u001b[0m\u001b[1;33m.\u001b[0m\u001b[0mjoin_names\u001b[0m\u001b[1;33m,\u001b[0m\u001b[1;33m\u001b[0m\u001b[1;33m\u001b[0m\u001b[0m\n\u001b[0;32m    792\u001b[0m             \u001b[0mleft_drop\u001b[0m\u001b[1;33m,\u001b[0m\u001b[1;33m\u001b[0m\u001b[1;33m\u001b[0m\u001b[0m\n\u001b[0;32m    793\u001b[0m             \u001b[0mright_drop\u001b[0m\u001b[1;33m,\u001b[0m\u001b[1;33m\u001b[0m\u001b[1;33m\u001b[0m\u001b[0m\n\u001b[1;32m--> 794\u001b[1;33m         ) = self._get_merge_keys()\n\u001b[0m\u001b[0;32m    795\u001b[0m \u001b[1;33m\u001b[0m\u001b[0m\n\u001b[0;32m    796\u001b[0m         \u001b[1;32mif\u001b[0m \u001b[0mleft_drop\u001b[0m\u001b[1;33m:\u001b[0m\u001b[1;33m\u001b[0m\u001b[1;33m\u001b[0m\u001b[0m\n\u001b[0;32m    797\u001b[0m             \u001b[0mself\u001b[0m\u001b[1;33m.\u001b[0m\u001b[0mleft\u001b[0m \u001b[1;33m=\u001b[0m \u001b[0mself\u001b[0m\u001b[1;33m.\u001b[0m\u001b[0mleft\u001b[0m\u001b[1;33m.\u001b[0m\u001b[0m_drop_labels_or_levels\u001b[0m\u001b[1;33m(\u001b[0m\u001b[0mleft_drop\u001b[0m\u001b[1;33m)\u001b[0m\u001b[1;33m\u001b[0m\u001b[1;33m\u001b[0m\u001b[0m\n",
      "\u001b[1;32mc:\\Users\\034033021651\\Documents\\MetaStar\\.venv\\lib\\site-packages\\pandas\\core\\reshape\\merge.py\u001b[0m in \u001b[0;36m?\u001b[1;34m(self)\u001b[0m\n\u001b[0;32m   1293\u001b[0m                         \u001b[1;31m# Then we're either Hashable or a wrong-length arraylike,\u001b[0m\u001b[1;33m\u001b[0m\u001b[1;33m\u001b[0m\u001b[0m\n\u001b[0;32m   1294\u001b[0m                         \u001b[1;31m#  the latter of which will raise\u001b[0m\u001b[1;33m\u001b[0m\u001b[1;33m\u001b[0m\u001b[0m\n\u001b[0;32m   1295\u001b[0m                         \u001b[0mrk\u001b[0m \u001b[1;33m=\u001b[0m \u001b[0mcast\u001b[0m\u001b[1;33m(\u001b[0m\u001b[0mHashable\u001b[0m\u001b[1;33m,\u001b[0m \u001b[0mrk\u001b[0m\u001b[1;33m)\u001b[0m\u001b[1;33m\u001b[0m\u001b[1;33m\u001b[0m\u001b[0m\n\u001b[0;32m   1296\u001b[0m                         \u001b[1;32mif\u001b[0m \u001b[0mrk\u001b[0m \u001b[1;32mis\u001b[0m \u001b[1;32mnot\u001b[0m \u001b[1;32mNone\u001b[0m\u001b[1;33m:\u001b[0m\u001b[1;33m\u001b[0m\u001b[1;33m\u001b[0m\u001b[0m\n\u001b[1;32m-> 1297\u001b[1;33m                             \u001b[0mright_keys\u001b[0m\u001b[1;33m.\u001b[0m\u001b[0mappend\u001b[0m\u001b[1;33m(\u001b[0m\u001b[0mright\u001b[0m\u001b[1;33m.\u001b[0m\u001b[0m_get_label_or_level_values\u001b[0m\u001b[1;33m(\u001b[0m\u001b[0mrk\u001b[0m\u001b[1;33m)\u001b[0m\u001b[1;33m)\u001b[0m\u001b[1;33m\u001b[0m\u001b[1;33m\u001b[0m\u001b[0m\n\u001b[0m\u001b[0;32m   1298\u001b[0m                         \u001b[1;32melse\u001b[0m\u001b[1;33m:\u001b[0m\u001b[1;33m\u001b[0m\u001b[1;33m\u001b[0m\u001b[0m\n\u001b[0;32m   1299\u001b[0m                             \u001b[1;31m# work-around for merge_asof(right_index=True)\u001b[0m\u001b[1;33m\u001b[0m\u001b[1;33m\u001b[0m\u001b[0m\n\u001b[0;32m   1300\u001b[0m                             \u001b[0mright_keys\u001b[0m\u001b[1;33m.\u001b[0m\u001b[0mappend\u001b[0m\u001b[1;33m(\u001b[0m\u001b[0mright\u001b[0m\u001b[1;33m.\u001b[0m\u001b[0mindex\u001b[0m\u001b[1;33m.\u001b[0m\u001b[0m_values\u001b[0m\u001b[1;33m)\u001b[0m\u001b[1;33m\u001b[0m\u001b[1;33m\u001b[0m\u001b[0m\n",
      "\u001b[1;32mc:\\Users\\034033021651\\Documents\\MetaStar\\.venv\\lib\\site-packages\\pandas\\core\\generic.py\u001b[0m in \u001b[0;36m?\u001b[1;34m(self, key, axis)\u001b[0m\n\u001b[0;32m   1906\u001b[0m             \u001b[0mvalues\u001b[0m \u001b[1;33m=\u001b[0m \u001b[0mself\u001b[0m\u001b[1;33m.\u001b[0m\u001b[0mxs\u001b[0m\u001b[1;33m(\u001b[0m\u001b[0mkey\u001b[0m\u001b[1;33m,\u001b[0m \u001b[0maxis\u001b[0m\u001b[1;33m=\u001b[0m\u001b[0mother_axes\u001b[0m\u001b[1;33m[\u001b[0m\u001b[1;36m0\u001b[0m\u001b[1;33m]\u001b[0m\u001b[1;33m)\u001b[0m\u001b[1;33m.\u001b[0m\u001b[0m_values\u001b[0m\u001b[1;33m\u001b[0m\u001b[1;33m\u001b[0m\u001b[0m\n\u001b[0;32m   1907\u001b[0m         \u001b[1;32melif\u001b[0m \u001b[0mself\u001b[0m\u001b[1;33m.\u001b[0m\u001b[0m_is_level_reference\u001b[0m\u001b[1;33m(\u001b[0m\u001b[0mkey\u001b[0m\u001b[1;33m,\u001b[0m \u001b[0maxis\u001b[0m\u001b[1;33m=\u001b[0m\u001b[0maxis\u001b[0m\u001b[1;33m)\u001b[0m\u001b[1;33m:\u001b[0m\u001b[1;33m\u001b[0m\u001b[1;33m\u001b[0m\u001b[0m\n\u001b[0;32m   1908\u001b[0m             \u001b[0mvalues\u001b[0m \u001b[1;33m=\u001b[0m \u001b[0mself\u001b[0m\u001b[1;33m.\u001b[0m\u001b[0maxes\u001b[0m\u001b[1;33m[\u001b[0m\u001b[0maxis\u001b[0m\u001b[1;33m]\u001b[0m\u001b[1;33m.\u001b[0m\u001b[0mget_level_values\u001b[0m\u001b[1;33m(\u001b[0m\u001b[0mkey\u001b[0m\u001b[1;33m)\u001b[0m\u001b[1;33m.\u001b[0m\u001b[0m_values\u001b[0m\u001b[1;33m\u001b[0m\u001b[1;33m\u001b[0m\u001b[0m\n\u001b[0;32m   1909\u001b[0m         \u001b[1;32melse\u001b[0m\u001b[1;33m:\u001b[0m\u001b[1;33m\u001b[0m\u001b[1;33m\u001b[0m\u001b[0m\n\u001b[1;32m-> 1910\u001b[1;33m             \u001b[1;32mraise\u001b[0m \u001b[0mKeyError\u001b[0m\u001b[1;33m(\u001b[0m\u001b[0mkey\u001b[0m\u001b[1;33m)\u001b[0m\u001b[1;33m\u001b[0m\u001b[1;33m\u001b[0m\u001b[0m\n\u001b[0m\u001b[0;32m   1911\u001b[0m \u001b[1;33m\u001b[0m\u001b[0m\n\u001b[0;32m   1912\u001b[0m         \u001b[1;31m# Check for duplicates\u001b[0m\u001b[1;33m\u001b[0m\u001b[1;33m\u001b[0m\u001b[0m\n\u001b[0;32m   1913\u001b[0m         \u001b[1;32mif\u001b[0m \u001b[0mvalues\u001b[0m\u001b[1;33m.\u001b[0m\u001b[0mndim\u001b[0m \u001b[1;33m>\u001b[0m \u001b[1;36m1\u001b[0m\u001b[1;33m:\u001b[0m\u001b[1;33m\u001b[0m\u001b[1;33m\u001b[0m\u001b[0m\n",
      "\u001b[1;31mKeyError\u001b[0m: 'DS_SIT_TOT_TURNO'"
     ]
    }
   ],
   "source": [
    "star_schema = transform_spark_dataframe_into_star_schema(\n",
    "    df,\n",
    "    colunas_fato=[\"QT_VOTOS_NOMINAIS_VALIDOS\", \"QT_VOTOS_NOMINAIS\"],\n",
    "    tabela_fato_nome=\"tabela_fato\",\n",
    "    mapping_colunas_dimensao={\n",
    "        'dim_municipio': [\"SG_UF\", \"NM_MUNICIPIO\"],\n",
    "        'dim_cargo': [\"DS_CARGO\"],\n",
    "        'dim_ds_eleicao':[\"DS_ELEICAO\"],\n",
    "        'dim_partido':[\"SG_PARTIDO\",\"NM_PARTIDO\", \"NR_PARTIDO\"],\n",
    "        'dim_candidato':[\"NM_CANDIDATO\", \"NR_CANDIDATO\",\"NM_URNA_CANDIDATO\"],\n",
    "        'dim_turno':[\"NR_TURNO\"],\n",
    "        'dim_tp_agrangencia':[\"TP_ABRANGENCIA\"],\n",
    "        'dim_zona':[\"NR_ZONA\"],\n",
    "        'dim_situacao_candidatura':[\"DS_SITUACAO_CANDIDATURA\"],\n",
    "        'dim_coligacao':[\"NM_COLIGACAO\", \"DS_COMPOSICAO_COLIGACAO\"],\n",
    "        'dim_voto_transito':[\"ST_VOTO_EM_TRANSITO\"],\n",
    "        'dim_destinacao_votos':[\"NM_TIPO_DESTINACAO_VOTOS\"],\n",
    "        'dim_totalizacao_candidato':[\"DS_SIT_TOT_TURNO\"]\n",
    "    },   \n",
    ")"
   ]
  },
  {
   "cell_type": "code",
   "execution_count": 12,
   "metadata": {},
   "outputs": [
    {
     "name": "stdout",
     "output_type": "stream",
     "text": [
      "Conteúdo da Tabela Fato (tabela_fato):\n",
      "+-------------------------+-----------------+----------------+------------+-----------------+--------------+----------------+------------+---------------------+-----------+---------------------------+----------------+--------------------+-----------------------+----------------------------+\n",
      "|QT_VOTOS_NOMINAIS_VALIDOS|QT_VOTOS_NOMINAIS|sk_dim_municipio|sk_dim_cargo|sk_dim_ds_eleicao|sk_dim_partido|sk_dim_candidato|sk_dim_turno|sk_dim_tp_agrangencia|sk_dim_zona|sk_dim_situacao_candidatura|sk_dim_coligacao|sk_dim_voto_transito|sk_dim_destinacao_votos|sk_dim_totalizacao_candidato|\n",
      "+-------------------------+-----------------+----------------+------------+-----------------+--------------+----------------+------------+---------------------+-----------+---------------------------+----------------+--------------------+-----------------------+----------------------------+\n",
      "|0                        |0                |25769804751     |5           |1                |7             |348             |0           |1                    |46         |1                          |133             |0                   |0                      |4                           |\n",
      "|0                        |0                |25769805135     |6           |1                |17            |1933            |0           |1                    |364        |1                          |165             |0                   |0                      |4                           |\n",
      "|8                        |8                |17179870005     |5           |1                |8             |1314            |0           |1                    |215        |1                          |57              |0                   |0                      |4                           |\n",
      "|0                        |0                |8589935269      |6           |1                |24            |8589935424      |0           |1                    |270        |1                          |135             |0                   |0                      |2                           |\n",
      "|1                        |1                |459             |6           |1                |32            |8589937237      |0           |1                    |32         |1                          |157             |0                   |0                      |4                           |\n",
      "|0                        |0                |25769804556     |6           |1                |32            |8589937237      |0           |1                    |122        |1                          |157             |0                   |0                      |4                           |\n",
      "|6                        |6                |550             |5           |1                |12            |8589936388      |0           |1                    |133        |1                          |95              |0                   |0                      |4                           |\n",
      "|252                      |252              |25769805075     |5           |1                |16            |8589935667      |0           |1                    |359        |1                          |142             |0                   |0                      |4                           |\n",
      "|0                        |0                |25769805107     |5           |1                |25            |17179869892     |0           |1                    |82         |1                          |151             |0                   |0                      |4                           |\n",
      "|0                        |0                |551             |6           |1                |7             |17179871973     |0           |1                    |212        |1                          |133             |0                   |0                      |4                           |\n",
      "|0                        |0                |552             |5           |1                |16            |17179870889     |0           |1                    |386        |1                          |142             |0                   |0                      |4                           |\n",
      "|3                        |3                |490             |5           |1                |12            |17179870254     |0           |1                    |291        |1                          |95              |0                   |0                      |5                           |\n",
      "|0                        |0                |25769805689     |5           |1                |20            |25769803907     |0           |1                    |86         |1                          |15              |0                   |0                      |4                           |\n",
      "|0                        |0                |17179869779     |5           |1                |29            |34359740684     |0           |1                    |243        |1                          |164             |0                   |0                      |4                           |\n",
      "|0                        |0                |17179869207     |5           |1                |10            |34359739450     |0           |1                    |295        |1                          |165             |0                   |0                      |4                           |\n",
      "|0                        |0                |25769804609     |5           |1                |6             |34359740446     |0           |1                    |16         |1                          |64              |0                   |0                      |2                           |\n",
      "|0                        |0                |25769805936     |5           |1                |23            |34359741070     |0           |1                    |404        |1                          |149             |0                   |0                      |4                           |\n",
      "|3                        |3                |25769803826     |6           |1                |10            |42949673085     |0           |1                    |224        |1                          |165             |0                   |0                      |4                           |\n",
      "|1                        |1                |25769804882     |5           |1                |23            |51539607893     |0           |1                    |77         |1                          |149             |0                   |0                      |4                           |\n",
      "|0                        |0                |25769804610     |5           |1                |11            |51539609985     |0           |1                    |266        |1                          |84              |0                   |0                      |2                           |\n",
      "+-------------------------+-----------------+----------------+------------+-----------------+--------------+----------------+------------+---------------------+-----------+---------------------------+----------------+--------------------+-----------------------+----------------------------+\n",
      "only showing top 20 rows\n",
      "\n",
      "Esquema da Tabela Fato:\n",
      "root\n",
      " |-- QT_VOTOS_NOMINAIS_VALIDOS: string (nullable = true)\n",
      " |-- QT_VOTOS_NOMINAIS: string (nullable = true)\n",
      " |-- sk_dim_municipio: long (nullable = true)\n",
      " |-- sk_dim_cargo: long (nullable = true)\n",
      " |-- sk_dim_ds_eleicao: long (nullable = true)\n",
      " |-- sk_dim_partido: long (nullable = true)\n",
      " |-- sk_dim_candidato: long (nullable = true)\n",
      " |-- sk_dim_turno: long (nullable = true)\n",
      " |-- sk_dim_tp_agrangencia: long (nullable = true)\n",
      " |-- sk_dim_zona: long (nullable = true)\n",
      " |-- sk_dim_situacao_candidatura: long (nullable = true)\n",
      " |-- sk_dim_coligacao: long (nullable = true)\n",
      " |-- sk_dim_voto_transito: long (nullable = true)\n",
      " |-- sk_dim_destinacao_votos: long (nullable = true)\n",
      " |-- sk_dim_totalizacao_candidato: long (nullable = true)\n",
      "\n"
     ]
    }
   ],
   "source": [
    "# Exemplo de como acessar as tabelas:\n",
    "tabela_fato_nome, df_fato = star_schema[0]\n",
    "\n",
    "# Visualize o conteúdo da tabela fato\n",
    "print(f\"Conteúdo da Tabela Fato ({tabela_fato_nome}):\")\n",
    "df_fato.show(truncate=False)\n",
    "\n",
    "# Exiba o esquema da tabela fato\n",
    "print(\"Esquema da Tabela Fato:\")\n",
    "df_fato.printSchema()"
   ]
  },
  {
   "cell_type": "code",
   "execution_count": 13,
   "metadata": {},
   "outputs": [
    {
     "name": "stdout",
     "output_type": "stream",
     "text": [
      "Conteúdo da Dimensão 1 (dim_municipio):\n",
      "+-----+---------------------+----------------+\n",
      "|SG_UF|NM_MUNICIPIO         |sk_dim_municipio|\n",
      "+-----+---------------------+----------------+\n",
      "|SP   |SÃO PAULO            |0               |\n",
      "|MG   |DIVISA ALEGRE        |1               |\n",
      "|MG   |BRAÚNAS              |2               |\n",
      "|SP   |IGARAPAVA            |3               |\n",
      "|SP   |BOFETE               |4               |\n",
      "|SP   |TAUBATÉ              |5               |\n",
      "|MG   |JACUÍ                |6               |\n",
      "|PR   |RIO BRANCO DO IVAÍ   |7               |\n",
      "|MG   |DELTA                |8               |\n",
      "|MT   |PORTO ALEGRE DO NORTE|9               |\n",
      "|MG   |DORES DO INDAIÁ      |10              |\n",
      "|SE   |RIACHÃO DO DANTAS    |11              |\n",
      "|SP   |IRAPUÃ               |12              |\n",
      "|PI   |AVELINO LOPES        |13              |\n",
      "|MA   |SÃO BERNARDO         |14              |\n",
      "|SC   |BENEDITO NOVO        |15              |\n",
      "|PA   |MOJU                 |16              |\n",
      "|BA   |JUSSARI              |17              |\n",
      "|MG   |SÃO TOMÁS DE AQUINO  |18              |\n",
      "|CE   |CATARINA             |19              |\n",
      "+-----+---------------------+----------------+\n",
      "only showing top 20 rows\n",
      "\n",
      "Esquema da Dimensão 1:\n",
      "root\n",
      " |-- SG_UF: string (nullable = true)\n",
      " |-- NM_MUNICIPIO: string (nullable = true)\n",
      " |-- sk_dim_municipio: long (nullable = false)\n",
      "\n"
     ]
    }
   ],
   "source": [
    "# Exemplo de como acessar as tabelas de dimensão:\n",
    "df_dimensao1_nome, df_dimensao1 = star_schema[1]\n",
    "\n",
    "# Visualize o conteúdo da dimensão 1\n",
    "print(f\"Conteúdo da Dimensão 1 ({df_dimensao1_nome}):\")\n",
    "df_dimensao1.show(truncate=False)\n",
    "\n",
    "# Exiba o esquema da dimensão 1\n",
    "print(\"Esquema da Dimensão 1:\")\n",
    "df_dimensao1.printSchema()"
   ]
  },
  {
   "cell_type": "code",
   "execution_count": 14,
   "metadata": {},
   "outputs": [
    {
     "name": "stdout",
     "output_type": "stream",
     "text": [
      "Conteúdo da Dimensão 1 (dim_cargo):\n",
      "+---------------------+------------+\n",
      "|DS_CARGO             |sk_dim_cargo|\n",
      "+---------------------+------------+\n",
      "|Deputado Distrital   |0           |\n",
      "|Governador           |1           |\n",
      "|Senador              |2           |\n",
      "|Conselheiro Distrital|3           |\n",
      "|Presidente           |4           |\n",
      "|Deputado Estadual    |5           |\n",
      "|Deputado Federal     |6           |\n",
      "+---------------------+------------+\n",
      "\n",
      "Esquema da Dimensão 1:\n",
      "root\n",
      " |-- DS_CARGO: string (nullable = true)\n",
      " |-- sk_dim_cargo: long (nullable = false)\n",
      "\n"
     ]
    }
   ],
   "source": [
    "# Exemplo de como acessar as tabelas de dimensão:\n",
    "df_dimensao1_nome, df_dimensao1 = star_schema[2]\n",
    "\n",
    "# Visualize o conteúdo da dimensão 1\n",
    "print(f\"Conteúdo da Dimensão 1 ({df_dimensao1_nome}):\")\n",
    "df_dimensao1.show(truncate=False)\n",
    "\n",
    "# Exiba o esquema da dimensão 1\n",
    "print(\"Esquema da Dimensão 1:\")\n",
    "df_dimensao1.printSchema()"
   ]
  },
  {
   "cell_type": "code",
   "execution_count": 24,
   "metadata": {},
   "outputs": [
    {
     "name": "stdout",
     "output_type": "stream",
     "text": [
      "Conteúdo da Dimensão 1 (dim_partido):\n",
      "+------------+----------------------------------------------+----------+--------------+\n",
      "|SG_PARTIDO  |NM_PARTIDO                                    |NR_PARTIDO|sk_dim_partido|\n",
      "+------------+----------------------------------------------+----------+--------------+\n",
      "|PSDB        |Partido da Social Democracia Brasileira       |45        |0             |\n",
      "|AVANTE      |AVANTE                                        |70        |1             |\n",
      "|AGIR        |AGIR                                          |36        |2             |\n",
      "|PL          |Partido Liberal                               |22        |3             |\n",
      "|PDT         |Partido Democrático Trabalhista               |12        |4             |\n",
      "|PT          |Partido dos Trabalhadores                     |13        |5             |\n",
      "|PATRIOTA    |Patriota                                      |51        |6             |\n",
      "|PP          |PROGRESSISTAS                                 |11        |7             |\n",
      "|REPUBLICANOS|REPUBLICANOS                                  |10        |8             |\n",
      "|PMB         |Partido da Mulher Brasileira                  |35        |9             |\n",
      "|PSOL        |Partido Socialismo e Liberdade                |50        |10            |\n",
      "|PMN         |Partido da Mobilização Nacional               |33        |11            |\n",
      "|PSD         |Partido Social Democrático                    |55        |12            |\n",
      "|PSTU        |Partido Socialista dos Trabalhadores Unificado|16        |13            |\n",
      "|PCB         |Partido Comunista Brasileiro                  |21        |14            |\n",
      "|PRTB        |Partido Renovador Trabalhista Brasileiro      |28        |15            |\n",
      "|UNIÃO       |UNIÃO BRASIL                                  |44        |16            |\n",
      "|REDE        |Rede Sustentabilidade                         |18        |17            |\n",
      "|DC          |Democracia Cristã                             |27        |18            |\n",
      "|CIDADANIA   |Cidadania                                     |23        |19            |\n",
      "+------------+----------------------------------------------+----------+--------------+\n",
      "only showing top 20 rows\n",
      "\n",
      "Esquema da Dimensão 1:\n",
      "root\n",
      " |-- SG_PARTIDO: string (nullable = true)\n",
      " |-- NM_PARTIDO: string (nullable = true)\n",
      " |-- NR_PARTIDO: string (nullable = true)\n",
      " |-- sk_dim_partido: long (nullable = false)\n",
      "\n"
     ]
    }
   ],
   "source": [
    "# Exemplo de como acessar as tabelas de dimensão:\n",
    "df_dimensao1_nome, df_dimensao1 = star_schema[4]\n",
    "\n",
    "# Visualize o conteúdo da dimensão 1\n",
    "print(f\"Conteúdo da Dimensão 1 ({df_dimensao1_nome}):\")\n",
    "df_dimensao1.show(truncate=False)\n",
    "\n",
    "# Exiba o esquema da dimensão 1\n",
    "print(\"Esquema da Dimensão 1:\")\n",
    "df_dimensao1.printSchema()"
   ]
  },
  {
   "cell_type": "code",
   "execution_count": 13,
   "metadata": {},
   "outputs": [],
   "source": [
    "hostname_or_ip = \"localhost\"\n",
    "port = \"5439\"\n",
    "db = \"metabase\"\n",
    "user = \"metabase\"\n",
    "password = \"metabase\"\n",
    "\n",
    "db_url = \"jdbc:postgresql://\" + hostname_or_ip + \":\" + port + \"/\" + db\n",
    "\n",
    "properties = {\n",
    "    \"user\": user,\n",
    "    \"password\": password,\n",
    "    \"driver\": \"org.postgresql.Driver\"\n",
    "}\n"
   ]
  },
  {
   "cell_type": "code",
   "execution_count": 14,
   "metadata": {},
   "outputs": [
    {
     "name": "stdout",
     "output_type": "stream",
     "text": [
      "Writing tabela_fato to DW\n",
      "Writing dim_municipio to DW\n",
      "Writing dim_cargo to DW\n",
      "Writing dim_ds_eleicao to DW\n",
      "Writing dim_partido to DW\n",
      "Writing dim_candidato to DW\n",
      "Writing dim_turno to DW\n",
      "Writing dim_tp_agrangencia to DW\n",
      "Writing dim_zona to DW\n",
      "Writing dim_situacao_candidatura to DW\n",
      "Writing dim_coligacao to DW\n",
      "Writing dim_voto_transito to DW\n",
      "Writing dim_destinacao_votos to DW\n",
      "Writing dim_totalizacao_candidato to DW\n"
     ]
    }
   ],
   "source": [
    "for item in star_schema:\n",
    "    table_name,dataframe = item\n",
    "    print(f\"Writing {table_name} to DW\")\n",
    "    dataframe.write.jdbc(url=db_url, table=\"votacao_candidato.\"+str(table_name), mode=\"overwrite\", properties=properties)"
   ]
  },
  {
   "cell_type": "markdown",
   "metadata": {},
   "source": [
    "### Cleaning up"
   ]
  },
  {
   "cell_type": "code",
   "execution_count": null,
   "metadata": {},
   "outputs": [],
   "source": [
    "# Stopping spark session\n",
    "spark_session.stop()\n",
    "\n",
    "# Cleaning up files \n",
    "# Delete the directory and all its contents\n",
    "# import shutil\n",
    "\n",
    "# shutil.rmtree(workdir+'extracted/')"
   ]
  }
 ],
 "metadata": {
  "kernelspec": {
   "display_name": "Python 3 (ipykernel)",
   "language": "python",
   "name": "python3"
  },
  "language_info": {
   "codemirror_mode": {
    "name": "ipython",
    "version": 3
   },
   "file_extension": ".py",
   "mimetype": "text/x-python",
   "name": "python",
   "nbconvert_exporter": "python",
   "pygments_lexer": "ipython3",
   "version": "3.10.11"
  }
 },
 "nbformat": 4,
 "nbformat_minor": 2
}
